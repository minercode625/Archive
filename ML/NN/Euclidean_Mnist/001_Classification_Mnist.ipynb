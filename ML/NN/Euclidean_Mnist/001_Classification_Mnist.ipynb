{
 "cells": [
  {
   "cell_type": "markdown",
   "metadata": {},
   "source": [
    "## Mnist Dataset Classification using K-Nearest Neighbors (Euclidean)\n",
    "\n",
    "### Summary\n",
    "<img align=\"right\" src=\"../image/NearestNeighbor.png\" width=150 height=150>\n",
    "KNN은 새로운 데이터가 주어졌을 때 기존 데이터 가운데 가장 가까운 k개 이웃의 정보로 새로운 데이터를 예측하는 알고리즘\n",
    "\n",
    "새로운 데이터가 주어진 경우 기존 모든 데이터와의 거리를 계산한다. 계산된 거리 값이 작은 k개의 데이터를 선정한다. 새로운 데이터의 클래스는 선정된 데이터들의 클래스 중 가장 많이 선택된 클래스로 분류한다.\n",
    "\n",
    "거리 계산 방법에는 Euclidean, Mahalanobis 등 있다.\n",
    "\n",
    "Mnist 데이터셋을 이용하여 0부터 9까지의 10가지 손글씨 클래스를 구분한다. 거리 계산 방법은 Euclidean을 사용한다.\n",
    "\n",
    "Time 측정 방법은 Method 측면에서는 \n",
    "1. Model Fitting Time : KNN의 경우 데이터셋에 대한 Checking 및 데이터셋 메모리에 카피\n",
    "2. All Test Data Prediction Time\n",
    "3. One Instance Prediction Time\n",
    "\n",
    "PCA 측면에서는 \n",
    "1. Calculating U x S x Vt Matrix Time\n",
    "2. Calculating new X = U x S Matrix Time"
   ]
  },
  {
   "cell_type": "code",
   "execution_count": 142,
   "metadata": {},
   "outputs": [],
   "source": [
    "import time\n",
    "from tqdm import tqdm\n",
    "import numpy as np\n",
    "import pandas as pd\n",
    "\n",
    "import seaborn as sns\n",
    "import matplotlib.pyplot as plt\n",
    "from PIL import Image\n",
    "\n",
    "from sklearn.datasets import fetch_openml\n",
    "from sklearn.model_selection import train_test_split\n",
    "from sklearn.metrics import accuracy_score\n",
    "from sklearn.neighbors import KNeighborsClassifier\n",
    "from sklearn.decomposition import PCA\n",
    "from torchvision.datasets import MNIST"
   ]
  },
  {
   "cell_type": "code",
   "execution_count": 135,
   "metadata": {},
   "outputs": [],
   "source": [
    "class BaseConfig:\n",
    "    def __init__(self):\n",
    "        pass\n",
    "\n",
    "    def info(self):\n",
    "        config_list = {\n",
    "            0 : ['Dataset', self.dataset, \n",
    "                 \"Train size: \" + str(int((1-self.test_size)*100))+\"%\",\n",
    "                 'Feature size: ' + str(self.feature_size), 1],\n",
    "            1 : ['Method', self.method, \n",
    "                 \"k = \" + str(self.k), self.distance, 2],\n",
    "            2 : ['Dimension reduction', \n",
    "                 'Method: ' + str(self.reduction_method[0]),\n",
    "                 'Component size: ' + str(self.reduction_method[1]),\n",
    "                 'Feature Reduction Ratio: ' + \\\n",
    "                    str(round(self.reduction_method[1]/self.feature_size, 3)*100 if self.reduction_method[1] is not None else None)+\"%\", 3],\n",
    "            3 : ['Iteration', str(self.iter), -1]\n",
    "        }\n",
    "\n",
    "        print(\"Device \" + \"─\" * 2 + \" \" + self.device)\n",
    "        print(\"│\")\n",
    "\n",
    "        parent = 1\n",
    "        for child in range(len(config_list)):\n",
    "            for idx, contents in enumerate(config_list[child][:-1]):\n",
    "                if idx == 0 and child == len(config_list)-1:\n",
    "                    print(\"└\" + \"─\" * 2 + contents)\n",
    "                elif idx == 0:\n",
    "                    print(\"├\" + \"─\" * 2 + contents)\n",
    "                elif child == len(config_list)-1:\n",
    "                    print(\" \" * 4 + \"└\" + \"─\" * 4 + contents)\n",
    "                else:\n",
    "                    print(\"│\" + \" \" * 4 + \"└\" + \"─\" * 4 + contents)\n",
    "            parent = config_list[child][-1]\n",
    "            if parent == -1: break\n",
    "            print(\"│\")\n",
    "\n",
    "class Config(BaseConfig):\n",
    "    def __init__(self):\n",
    "        super(BaseConfig, self).__init__()\n",
    "        self.device = 'PC'\n",
    "        self.dataset = 'Mnist'\n",
    "        self.test_size = 0.2\n",
    "        self.feature_size = 784\n",
    "        self.method = 'kNN'\n",
    "        self.k = 1\n",
    "        self.distance = 'Euclidean'\n",
    "        self.reduction_method = [None, None] # method, n_components\n",
    "        self.iter = 10\n"
   ]
  },
  {
   "cell_type": "markdown",
   "metadata": {},
   "source": [
    "# Load Mnist Dataset"
   ]
  },
  {
   "cell_type": "code",
   "execution_count": 81,
   "metadata": {},
   "outputs": [
    {
     "name": "stdout",
     "output_type": "stream",
     "text": [
      "**Author**: Yann LeCun, Corinna Cortes, Christopher J.C. Burges  \n",
      "**Source**: [MNIST Website](http://yann.lecun.com/exdb/mnist/) - Date unknown  \n",
      "**Please cite**:  \n",
      "\n",
      "The MNIST database of handwritten digits with 784 features, raw data available at: http://yann.lecun.com/exdb/mnist/. It can be split in a training set of the first 60,000 examples, and a test set of 10,000 examples  \n",
      "\n",
      "It is a subset of a larger set available from NIST. The digits have been size-normalized and centered in a fixed-size image. It is a good database for people who want to try learning techniques and pattern recognition methods on real-world data while spending minimal efforts on preprocessing and formatting. The original black and white (bilevel) images from NIST were size normalized to fit in a 20x20 pixel box while preserving their aspect ratio. The resulting images contain grey levels as a result of the anti-aliasing technique used by the normalization algorithm. the images were centered in a 28x28 image by computing the center of mass of the pixels, and translating the image so as to position this point at the center of the 28x28 field.  \n",
      "\n",
      "With some classification methods (particularly template-based methods, such as SVM and K-nearest neighbors), the error rate improves when the digits are centered by bounding box rather than center of mass. If you do this kind of pre-processing, you should report it in your publications. The MNIST database was constructed from NIST's NIST originally designated SD-3 as their training set and SD-1 as their test set. However, SD-3 is much cleaner and easier to recognize than SD-1. The reason for this can be found on the fact that SD-3 was collected among Census Bureau employees, while SD-1 was collected among high-school students. Drawing sensible conclusions from learning experiments requires that the result be independent of the choice of training set and test among the complete set of samples. Therefore it was necessary to build a new database by mixing NIST's datasets.  \n",
      "\n",
      "The MNIST training set is composed of 30,000 patterns from SD-3 and 30,000 patterns from SD-1. Our test set was composed of 5,000 patterns from SD-3 and 5,000 patterns from SD-1. The 60,000 pattern training set contained examples from approximately 250 writers. We made sure that the sets of writers of the training set and test set were disjoint. SD-1 contains 58,527 digit images written by 500 different writers. In contrast to SD-3, where blocks of data from each writer appeared in sequence, the data in SD-1 is scrambled. Writer identities for SD-1 is available and we used this information to unscramble the writers. We then split SD-1 in two: characters written by the first 250 writers went into our new training set. The remaining 250 writers were placed in our test set. Thus we had two sets with nearly 30,000 examples each. The new training set was completed with enough examples from SD-3, starting at pattern # 0, to make a full set of 60,000 training patterns. Similarly, the new test set was completed with SD-3 examples starting at pattern # 35,000 to make a full set with 60,000 test patterns. Only a subset of 10,000 test images (5,000 from SD-1 and 5,000 from SD-3) is available on this site. The full 60,000 sample training set is available.\n",
      "\n",
      "Downloaded from openml.org.\n"
     ]
    }
   ],
   "source": [
    "mnist = fetch_openml('mnist_784', version=1)\n",
    "\n",
    "print(mnist.DESCR)"
   ]
  },
  {
   "cell_type": "code",
   "execution_count": 82,
   "metadata": {},
   "outputs": [
    {
     "name": "stdout",
     "output_type": "stream",
     "text": [
      "Mnist Data range [0.0, 1.0] \n",
      "Mnist Data shape X: (70000, 784), y: (70000,)\n"
     ]
    }
   ],
   "source": [
    "X, y = mnist[\"data\"], mnist[\"target\"]\n",
    "X = X / 255.\n",
    "y = y.astype(np.int64)\n",
    "print(f'Mnist Data range [{X.to_numpy().min()}, {X.to_numpy().max()}] ')\n",
    "print(f'Mnist Data shape X: {X.shape}, y: {y.shape}')"
   ]
  },
  {
   "cell_type": "code",
   "execution_count": 76,
   "metadata": {},
   "outputs": [
    {
     "data": {
      "image/png": "[encoded data removed]",
      "text/plain": [
       "<Figure size 432x288 with 1 Axes>"
      ]
     },
     "metadata": {
      "needs_background": "light"
     },
     "output_type": "display_data"
    }
   ],
   "source": [
    "sns.histplot(y, palette=\"tab10\")\n",
    "plt.title(\"Class Distribution of Mnist Dataset\")\n",
    "plt.show()"
   ]
  },
  {
   "cell_type": "markdown",
   "metadata": {},
   "source": [
    "## K-Nearest Neighbor"
   ]
  },
  {
   "cell_type": "code",
   "execution_count": 136,
   "metadata": {},
   "outputs": [
    {
     "name": "stdout",
     "output_type": "stream",
     "text": [
      "Device ── PC\n",
      "│\n",
      "├──Dataset\n",
      "│    └────Mnist\n",
      "│    └────Train size: 80%\n",
      "│    └────Feature size: 784\n",
      "│\n",
      "├──Method\n",
      "│    └────kNN\n",
      "│    └────k = 1\n",
      "│    └────Euclidean\n",
      "│\n",
      "├──Dimension reduction\n",
      "│    └────Method: None\n",
      "│    └────Component size: None\n",
      "│    └────Feature Reduction Ratio: None%\n",
      "│\n",
      "└──Iteration\n",
      "    └────10\n"
     ]
    }
   ],
   "source": [
    "config = Config()\n",
    "config.info()"
   ]
  },
  {
   "cell_type": "code",
   "execution_count": 77,
   "metadata": {},
   "outputs": [
    {
     "name": "stderr",
     "output_type": "stream",
     "text": [
      "100%|██████████| 10/10 [01:59<00:00, 11.98s/it]"
     ]
    },
    {
     "name": "stdout",
     "output_type": "stream",
     "text": [
      "Train size :  56000  / Test size :  14000\n",
      "----------------------------------------\n",
      "Test set score: 0.972400\n",
      "KNN fitting Time: 0.0539 ± 0.00404 sec\n",
      "All Test dataset Prediction Time at once : 11.5019 ± 0.28914 sec\n",
      "Divide the Prediction Time by Test size : 821.56510643 ± 20.65284804 microsec\n"
     ]
    },
    {
     "name": "stderr",
     "output_type": "stream",
     "text": [
      "\n"
     ]
    }
   ],
   "source": [
    "avg_test_acc = []\n",
    "avg_knn_fit_time = []\n",
    "avg_pred_time = []\n",
    "\n",
    "max_seed = 10\n",
    "\n",
    "for seed in tqdm(range(max_seed)):\n",
    "    x_train, x_test, y_train, y_test = train_test_split(X, y, test_size=0.2, random_state=seed, shuffle=True)\n",
    "\n",
    "    k = 1\n",
    "\n",
    "    knn = KNeighborsClassifier(k, weights='distance', n_jobs=-1)\n",
    "    start_time = time.perf_counter()\n",
    "    knn.fit(x_train, y_train)\n",
    "    knn_fit_time = time.perf_counter() - start_time\n",
    "    avg_knn_fit_time.append(knn_fit_time)\n",
    "\n",
    "    start_time = time.perf_counter()\n",
    "    pred = knn.predict(x_test)\n",
    "    pred_time = time.perf_counter() - start_time\n",
    "\n",
    "    test_score = accuracy_score(pred, y_test)\n",
    "    avg_test_acc.append(test_score)\n",
    "    avg_pred_time.append(pred_time)\n",
    "\n",
    "print(\"Train size : \", len(x_train), \" / Test size : \", len(x_test))\n",
    "print(\"-----\" * 8)\n",
    "print(\"Test set score: %f\" % np.array(avg_test_acc).mean())\n",
    "print(\"KNN fitting Time: %.4f ± %.5f\" % (np.array(avg_knn_fit_time).mean(), np.array(avg_knn_fit_time).std()), \"sec\")\n",
    "print(\"All Test dataset Prediction Time at once : %.4f ± %.5f\" % (np.array(avg_pred_time).mean(), np.array(avg_pred_time).std()), \"sec\")\n",
    "print(\"Divide the Prediction Time by Test size : %.8f ± %.8f\" % (np.array(avg_pred_time).mean()/len(x_test)*1e6, np.array(avg_pred_time).std()/len(x_test)*1e6), \"microsec\")"
   ]
  },
  {
   "cell_type": "markdown",
   "metadata": {},
   "source": [
    "### 1개의 Instance를 예측하는데 걸리는 시간 측정 - 1000번 반복"
   ]
  },
  {
   "cell_type": "code",
   "execution_count": 132,
   "metadata": {},
   "outputs": [
    {
     "name": "stderr",
     "output_type": "stream",
     "text": [
      "C:\\Users\\Cau_13\\Anaconda3\\envs\\GBR\\lib\\site-packages\\sklearn\\neighbors\\_classification.py:198: DataConversionWarning: A column-vector y was passed when a 1d array was expected. Please change the shape of y to (n_samples,), for example using ravel().\n",
      "  return self._fit(X, y)\n",
      "999it [01:49,  9.14it/s]"
     ]
    },
    {
     "name": "stdout",
     "output_type": "stream",
     "text": [
      "Train size :  56000  / Test size :  1000\n",
      "----------------------------------------\n",
      "Test set score: 0.968000\n",
      "One Instance Prediction Average Time : 0.10861929 ± 0.00517085 microsec\n"
     ]
    },
    {
     "name": "stderr",
     "output_type": "stream",
     "text": [
      "\n"
     ]
    }
   ],
   "source": [
    "knn = KNeighborsClassifier(k, weights='distance', n_jobs=-1)\n",
    "\n",
    "x_train, x_test, y_train, y_test = train_test_split(X, y, test_size=0.2, random_state=seed, shuffle=True)\n",
    "\n",
    "x_train, x_test = x_train.to_numpy(), x_test.to_numpy()\n",
    "y_train, y_test = np.array(y_train).reshape(-1, 1), np.array(y_test).reshape(-1, 1)\n",
    "\n",
    "\n",
    "knn.fit(x_train, y_train)\n",
    "\n",
    "avg_test_score = []\n",
    "avg_pred_time = []\n",
    "count = 0\n",
    "\n",
    "for x_one, y_one in tqdm(zip(x_test, y_test)):\n",
    "    x_one = x_one.reshape(1, -1)\n",
    "\n",
    "    start = time.perf_counter()\n",
    "    pred = knn.predict(x_one)\n",
    "    pred_time = time.perf_counter() - start\n",
    "    \n",
    "    test_score = accuracy_score(pred, y_one)\n",
    "\n",
    "    avg_test_score.append(test_score)\n",
    "    avg_pred_time.append(pred_time)\n",
    "\n",
    "    count += 1\n",
    "    if count == 1000:\n",
    "        break\n",
    "\n",
    "print(\"Train size : \", len(x_train), \" / Test size : \", 1000)\n",
    "print(\"-----\" * 8)\n",
    "print(\"Test set score: %f\" % np.array(avg_test_score).mean())\n",
    "print(\"One Instance Prediction Average Time : %.8f ± %.8f\" % (np.array(avg_pred_time).mean(), np.array(avg_pred_time).std()), \"microsec\")"
   ]
  },
  {
   "cell_type": "code",
   "execution_count": 137,
   "metadata": {},
   "outputs": [
    {
     "name": "stdout",
     "output_type": "stream",
     "text": [
      "Device ── PC\n",
      "│\n",
      "├──Dataset\n",
      "│    └────Mnist\n",
      "│    └────Train size: 80%\n",
      "│    └────Feature size: 784\n",
      "│\n",
      "├──Method\n",
      "│    └────kNN\n",
      "│    └────k = 2\n",
      "│    └────Euclidean\n",
      "│\n",
      "├──Dimension reduction\n",
      "│    └────Method: None\n",
      "│    └────Component size: None\n",
      "│    └────Feature Reduction Ratio: None%\n",
      "│\n",
      "└──Iteration\n",
      "    └────10\n"
     ]
    }
   ],
   "source": [
    "config.k = 2\n",
    "config.info()"
   ]
  },
  {
   "cell_type": "code",
   "execution_count": 138,
   "metadata": {},
   "outputs": [
    {
     "name": "stderr",
     "output_type": "stream",
     "text": [
      "100%|██████████| 10/10 [02:16<00:00, 13.65s/it]"
     ]
    },
    {
     "name": "stdout",
     "output_type": "stream",
     "text": [
      "Train size :  56000  / Test size :  14000\n",
      "----------------------------------------\n",
      "Test set score: 0.972400\n",
      "KNN fitting Time: 0.0551 ± 0.00288 sec\n",
      "All Test dataset Prediction Time at once : 13.1612 ± 0.24788 sec\n",
      "Divide the Prediction Time by Test size : 940.08289571 ± 17.70568239 microsec\n"
     ]
    },
    {
     "name": "stderr",
     "output_type": "stream",
     "text": [
      "\n"
     ]
    }
   ],
   "source": [
    "avg_test_acc = []\n",
    "avg_knn_fit_time = []\n",
    "avg_pred_time = []\n",
    "\n",
    "max_seed = 10\n",
    "\n",
    "for seed in tqdm(range(max_seed)):\n",
    "    x_train, x_test, y_train, y_test = train_test_split(X, y, test_size=0.2, random_state=seed, shuffle=True)\n",
    "\n",
    "    k = 2\n",
    "\n",
    "    knn = KNeighborsClassifier(k, weights='distance', n_jobs=-1)\n",
    "    start_time = time.perf_counter()\n",
    "    knn.fit(x_train, y_train)\n",
    "    knn_fit_time = time.perf_counter() - start_time\n",
    "    avg_knn_fit_time.append(knn_fit_time)\n",
    "\n",
    "    start_time = time.perf_counter()\n",
    "    pred = knn.predict(x_test)\n",
    "    pred_time = time.perf_counter() - start_time\n",
    "\n",
    "    test_score = accuracy_score(pred, y_test)\n",
    "    avg_test_acc.append(test_score)\n",
    "    avg_pred_time.append(pred_time)\n",
    "\n",
    "print(\"Train size : \", len(x_train), \" / Test size : \", len(x_test))\n",
    "print(\"-----\" * 8)\n",
    "print(\"Test set score: %f\" % np.array(avg_test_acc).mean())\n",
    "print(\"KNN fitting Time: %.4f ± %.5f\" % (np.array(avg_knn_fit_time).mean(), np.array(avg_knn_fit_time).std()), \"sec\")\n",
    "print(\"All Test dataset Prediction Time at once : %.4f ± %.5f\" % (np.array(avg_pred_time).mean(), np.array(avg_pred_time).std()), \"sec\")\n",
    "print(\"Divide the Prediction Time by Test size : %.8f ± %.8f\" % (np.array(avg_pred_time).mean()/len(x_test)*1e6, np.array(avg_pred_time).std()/len(x_test)*1e6), \"microsec\")"
   ]
  },
  {
   "cell_type": "code",
   "execution_count": 139,
   "metadata": {},
   "outputs": [
    {
     "name": "stdout",
     "output_type": "stream",
     "text": [
      "Device ── PC\n",
      "│\n",
      "├──Dataset\n",
      "│    └────Mnist\n",
      "│    └────Train size: 80%\n",
      "│    └────Feature size: 784\n",
      "│\n",
      "├──Method\n",
      "│    └────kNN\n",
      "│    └────k = 3\n",
      "│    └────Euclidean\n",
      "│\n",
      "├──Dimension reduction\n",
      "│    └────Method: None\n",
      "│    └────Component size: None\n",
      "│    └────Feature Reduction Ratio: None%\n",
      "│\n",
      "└──Iteration\n",
      "    └────10\n"
     ]
    }
   ],
   "source": [
    "config.k = 3\n",
    "config.info()"
   ]
  },
  {
   "cell_type": "code",
   "execution_count": 140,
   "metadata": {},
   "outputs": [
    {
     "name": "stderr",
     "output_type": "stream",
     "text": [
      "100%|██████████| 10/10 [02:22<00:00, 14.24s/it]"
     ]
    },
    {
     "name": "stdout",
     "output_type": "stream",
     "text": [
      "Train size :  56000  / Test size :  14000\n",
      "----------------------------------------\n",
      "Test set score: 0.973414\n",
      "KNN fitting Time: 0.0536 ± 0.00169 sec\n",
      "All Test dataset Prediction Time at once : 13.7347 ± 2.48047 sec\n",
      "Divide the Prediction Time by Test size : 981.05276500 ± 177.17638371 microsec\n"
     ]
    },
    {
     "name": "stderr",
     "output_type": "stream",
     "text": [
      "\n"
     ]
    }
   ],
   "source": [
    "avg_test_acc = []\n",
    "avg_knn_fit_time = []\n",
    "avg_pred_time = []\n",
    "\n",
    "max_seed = 10\n",
    "\n",
    "for seed in tqdm(range(max_seed)):\n",
    "    x_train, x_test, y_train, y_test = train_test_split(X, y, test_size=0.2, random_state=seed, shuffle=True)\n",
    "\n",
    "    k = 3\n",
    "\n",
    "    knn = KNeighborsClassifier(k, weights='distance', n_jobs=-1)\n",
    "    start_time = time.perf_counter()\n",
    "    knn.fit(x_train, y_train)\n",
    "    knn_fit_time = time.perf_counter() - start_time\n",
    "    avg_knn_fit_time.append(knn_fit_time)\n",
    "\n",
    "    start_time = time.perf_counter()\n",
    "    pred = knn.predict(x_test)\n",
    "    pred_time = time.perf_counter() - start_time\n",
    "\n",
    "    test_score = accuracy_score(pred, y_test)\n",
    "    avg_test_acc.append(test_score)\n",
    "    avg_pred_time.append(pred_time)\n",
    "\n",
    "print(\"Train size : \", len(x_train), \" / Test size : \", len(x_test))\n",
    "print(\"-----\" * 8)\n",
    "print(\"Test set score: %f\" % np.array(avg_test_acc).mean())\n",
    "print(\"KNN fitting Time: %.4f ± %.5f\" % (np.array(avg_knn_fit_time).mean(), np.array(avg_knn_fit_time).std()), \"sec\")\n",
    "print(\"All Test dataset Prediction Time at once : %.4f ± %.5f\" % (np.array(avg_pred_time).mean(), np.array(avg_pred_time).std()), \"sec\")\n",
    "print(\"Divide the Prediction Time by Test size : %.8f ± %.8f\" % (np.array(avg_pred_time).mean()/len(x_test)*1e6, np.array(avg_pred_time).std()/len(x_test)*1e6), \"microsec\")"
   ]
  },
  {
   "cell_type": "markdown",
   "metadata": {},
   "source": [
    "### kNN with PCA feature 2"
   ]
  },
  {
   "cell_type": "code",
   "execution_count": 147,
   "metadata": {},
   "outputs": [
    {
     "name": "stdout",
     "output_type": "stream",
     "text": [
      "Device ── PC\n",
      "│\n",
      "├──Dataset\n",
      "│    └────Mnist\n",
      "│    └────Train size: 80%\n",
      "│    └────Feature size: 784\n",
      "│\n",
      "├──Method\n",
      "│    └────kNN\n",
      "│    └────k = 2\n",
      "│    └────Euclidean\n",
      "│\n",
      "├──Dimension reduction\n",
      "│    └────Method: PCA\n",
      "│    └────Component size: 2\n",
      "│    └────Feature Reduction Ratio: 0.3%\n",
      "│\n",
      "└──Iteration\n",
      "    └────10\n"
     ]
    }
   ],
   "source": [
    "config.reduction_method = ['PCA', 2]\n",
    "config.k = 2\n",
    "config.info()"
   ]
  },
  {
   "cell_type": "code",
   "execution_count": 148,
   "metadata": {},
   "outputs": [],
   "source": [
    "pca_fit_time_list = []\n",
    "features_extract_time_list = []"
   ]
  },
  {
   "cell_type": "markdown",
   "metadata": {},
   "source": [
    "### Time of calculating PCA"
   ]
  },
  {
   "cell_type": "code",
   "execution_count": 149,
   "metadata": {},
   "outputs": [
    {
     "name": "stdout",
     "output_type": "stream",
     "text": [
      "The number of components : 2\n",
      "Calculating U*S*Vt Matrix Time: 1.306228\n",
      "Calculating new X = U*S Matrix Time: 0.202128\n"
     ]
    }
   ],
   "source": [
    "n_components = 2\n",
    "\n",
    "pca_dims = PCA(n_components)\n",
    "print(f\"The number of components : {n_components}\")\n",
    "\n",
    "start_time = time.perf_counter()\n",
    "pca_dims.fit(X)\n",
    "pca_fit_time = time.perf_counter () - start_time\n",
    "print(f\"Calculating U*S*Vt Matrix Time: {pca_fit_time:4f}\")\n",
    "pca_fit_time_list.append(pca_fit_time)\n",
    "\n",
    "start_time = time.perf_counter()\n",
    "features = pca_dims.transform(X)\n",
    "features_extract_time = time.perf_counter () - start_time\n",
    "print(f\"Calculating new X = U*S Matrix Time: {features_extract_time:4f}\")\n",
    "features_extract_time_list.append(features_extract_time)"
   ]
  },
  {
   "cell_type": "code",
   "execution_count": 150,
   "metadata": {},
   "outputs": [
    {
     "name": "stderr",
     "output_type": "stream",
     "text": [
      "100%|██████████| 10/10 [00:01<00:00,  6.22it/s]"
     ]
    },
    {
     "name": "stdout",
     "output_type": "stream",
     "text": [
      "Train size :  56000  / Test size :  14000\n",
      "----------------------------------------\n",
      "Test set score: 0.379986\n",
      "KNN fitting Time: 0.0320 ± 0.00269 sec\n",
      "All Test dataset Prediction Time at once : 0.1200 ± 0.00154 sec\n",
      "Divide the Prediction Time by Test size : 8.56811429 ± 0.11025550 microsec\n"
     ]
    },
    {
     "name": "stderr",
     "output_type": "stream",
     "text": [
      "\n"
     ]
    }
   ],
   "source": [
    "avg_test_acc = []\n",
    "avg_knn_fit_time = []\n",
    "avg_pred_time = []\n",
    "\n",
    "max_seed = 10\n",
    "\n",
    "for seed in tqdm(range(max_seed)):\n",
    "    x_train, x_test, y_train, y_test = train_test_split(features, y, test_size=0.2, random_state=seed, shuffle=True)\n",
    "\n",
    "    k = 2\n",
    "\n",
    "    knn = KNeighborsClassifier(k, weights='distance', n_jobs=-1)\n",
    "    start_time = time.perf_counter()\n",
    "    knn.fit(x_train, y_train)\n",
    "    knn_fit_time = time.perf_counter() - start_time\n",
    "    avg_knn_fit_time.append(knn_fit_time)\n",
    "\n",
    "    start_time = time.perf_counter()\n",
    "    pred = knn.predict(x_test)\n",
    "    pred_time = time.perf_counter() - start_time\n",
    "\n",
    "    test_score = accuracy_score(pred, y_test)\n",
    "    avg_test_acc.append(test_score)\n",
    "    avg_pred_time.append(pred_time)\n",
    "\n",
    "print(\"Train size : \", len(x_train), \" / Test size : \", len(x_test))\n",
    "print(\"-----\" * 8)\n",
    "print(\"Test set score: %f\" % np.array(avg_test_acc).mean())\n",
    "print(\"KNN fitting Time: %.4f ± %.5f\" % (np.array(avg_knn_fit_time).mean(), np.array(avg_knn_fit_time).std()), \"sec\")\n",
    "print(\"All Test dataset Prediction Time at once : %.4f ± %.5f\" % (np.array(avg_pred_time).mean(), np.array(avg_pred_time).std()), \"sec\")\n",
    "print(\"Divide the Prediction Time by Test size : %.8f ± %.8f\" % (np.array(avg_pred_time).mean()/len(x_test)*1e6, np.array(avg_pred_time).std()/len(x_test)*1e6), \"microsec\")"
   ]
  },
  {
   "cell_type": "markdown",
   "metadata": {},
   "source": [
    "### kNN with PCA feature 3"
   ]
  },
  {
   "cell_type": "code",
   "execution_count": 151,
   "metadata": {},
   "outputs": [
    {
     "name": "stdout",
     "output_type": "stream",
     "text": [
      "Device ── PC\n",
      "│\n",
      "├──Dataset\n",
      "│    └────Mnist\n",
      "│    └────Train size: 80%\n",
      "│    └────Feature size: 784\n",
      "│\n",
      "├──Method\n",
      "│    └────kNN\n",
      "│    └────k = 3\n",
      "│    └────Euclidean\n",
      "│\n",
      "├──Dimension reduction\n",
      "│    └────Method: PCA\n",
      "│    └────Component size: 3\n",
      "│    └────Feature Reduction Ratio: 0.4%\n",
      "│\n",
      "└──Iteration\n",
      "    └────10\n"
     ]
    }
   ],
   "source": [
    "config.reduction_method = ['PCA', 3]\n",
    "config.k = 3\n",
    "config.info()"
   ]
  },
  {
   "cell_type": "code",
   "execution_count": 152,
   "metadata": {},
   "outputs": [
    {
     "name": "stdout",
     "output_type": "stream",
     "text": [
      "The number of components : 3\n",
      "Calculating U*S*Vt Matrix Time: 1.281955\n",
      "Calculating new X = U*S Matrix Time: 0.196105\n"
     ]
    }
   ],
   "source": [
    "n_components = 3\n",
    "\n",
    "pca_dims = PCA(n_components)\n",
    "print(f\"The number of components : {n_components}\")\n",
    "\n",
    "start_time = time.perf_counter()\n",
    "pca_dims.fit(X)\n",
    "pca_fit_time = time.perf_counter () - start_time\n",
    "print(f\"Calculating U*S*Vt Matrix Time: {pca_fit_time:4f}\")\n",
    "pca_fit_time_list.append(pca_fit_time)\n",
    "\n",
    "start_time = time.perf_counter()\n",
    "features = pca_dims.transform(X)\n",
    "features_extract_time = time.perf_counter () - start_time\n",
    "print(f\"Calculating new X = U*S Matrix Time: {features_extract_time:4f}\")\n",
    "features_extract_time_list.append(features_extract_time)"
   ]
  },
  {
   "cell_type": "code",
   "execution_count": 155,
   "metadata": {},
   "outputs": [
    {
     "name": "stderr",
     "output_type": "stream",
     "text": [
      "100%|██████████| 10/10 [00:01<00:00,  6.02it/s]"
     ]
    },
    {
     "name": "stdout",
     "output_type": "stream",
     "text": [
      "Train size :  56000  / Test size :  14000\n",
      "----------------------------------------\n",
      "Test set score: 0.455864\n",
      "KNN fitting Time: 0.0444 ± 0.00724 sec\n",
      "All Test dataset Prediction Time at once : 0.1146 ± 0.00461 sec\n",
      "Divide the Prediction Time by Test size : 8.18325214 ± 0.32958689 microsec\n"
     ]
    },
    {
     "name": "stderr",
     "output_type": "stream",
     "text": [
      "\n"
     ]
    }
   ],
   "source": [
    "avg_test_acc = []\n",
    "avg_knn_fit_time = []\n",
    "avg_pred_time = []\n",
    "\n",
    "max_seed = 10\n",
    "\n",
    "for seed in tqdm(range(max_seed)):\n",
    "    x_train, x_test, y_train, y_test = train_test_split(features, y, test_size=0.2, random_state=seed, shuffle=True)\n",
    "\n",
    "    k = 3\n",
    "\n",
    "    knn = KNeighborsClassifier(k, weights='distance', n_jobs=-1)\n",
    "    start_time = time.perf_counter()\n",
    "    knn.fit(x_train, y_train)\n",
    "    knn_fit_time = time.perf_counter() - start_time\n",
    "    avg_knn_fit_time.append(knn_fit_time)\n",
    "\n",
    "    start_time = time.perf_counter()\n",
    "    pred = knn.predict(x_test)\n",
    "    pred_time = time.perf_counter() - start_time\n",
    "\n",
    "    test_score = accuracy_score(pred, y_test)\n",
    "    avg_test_acc.append(test_score)\n",
    "    avg_pred_time.append(pred_time)\n",
    "\n",
    "print(\"Train size : \", len(x_train), \" / Test size : \", len(x_test))\n",
    "print(\"-----\" * 8)\n",
    "print(\"Test set score: %f\" % np.array(avg_test_acc).mean())\n",
    "print(\"KNN fitting Time: %.4f ± %.5f\" % (np.array(avg_knn_fit_time).mean(), np.array(avg_knn_fit_time).std()), \"sec\")\n",
    "print(\"All Test dataset Prediction Time at once : %.4f ± %.5f\" % (np.array(avg_pred_time).mean(), np.array(avg_pred_time).std()), \"sec\")\n",
    "print(\"Divide the Prediction Time by Test size : %.8f ± %.8f\" % (np.array(avg_pred_time).mean()/len(x_test)*1e6, np.array(avg_pred_time).std()/len(x_test)*1e6), \"microsec\")"
   ]
  },
  {
   "cell_type": "markdown",
   "metadata": {},
   "source": [
    "### kNN with PCA feature 5"
   ]
  },
  {
   "cell_type": "code",
   "execution_count": 154,
   "metadata": {},
   "outputs": [
    {
     "name": "stdout",
     "output_type": "stream",
     "text": [
      "Device ── PC\n",
      "│\n",
      "├──Dataset\n",
      "│    └────Mnist\n",
      "│    └────Train size: 80%\n",
      "│    └────Feature size: 784\n",
      "│\n",
      "├──Method\n",
      "│    └────kNN\n",
      "│    └────k = 5\n",
      "│    └────Euclidean\n",
      "│\n",
      "├──Dimension reduction\n",
      "│    └────Method: PCA\n",
      "│    └────Component size: 5\n",
      "│    └────Feature Reduction Ratio: 0.6%\n",
      "│\n",
      "└──Iteration\n",
      "    └────10\n"
     ]
    }
   ],
   "source": [
    "config.reduction_method = ['PCA', 5]\n",
    "config.k = 5\n",
    "config.info()"
   ]
  },
  {
   "cell_type": "code",
   "execution_count": 156,
   "metadata": {},
   "outputs": [
    {
     "name": "stdout",
     "output_type": "stream",
     "text": [
      "The number of components : 5\n",
      "Calculating U*S*Vt Matrix Time: 1.285641\n",
      "Calculating new X = U*S Matrix Time: 0.216731\n"
     ]
    }
   ],
   "source": [
    "n_components = 5\n",
    "\n",
    "pca_dims = PCA(n_components)\n",
    "print(f\"The number of components : {n_components}\")\n",
    "\n",
    "start_time = time.perf_counter()\n",
    "pca_dims.fit(X)\n",
    "pca_fit_time = time.perf_counter () - start_time\n",
    "print(f\"Calculating U*S*Vt Matrix Time: {pca_fit_time:4f}\")\n",
    "pca_fit_time_list.append(pca_fit_time)\n",
    "\n",
    "start_time = time.perf_counter()\n",
    "features = pca_dims.transform(X)\n",
    "features_extract_time = time.perf_counter () - start_time\n",
    "print(f\"Calculating new X = U*S Matrix Time: {features_extract_time:4f}\")\n",
    "features_extract_time_list.append(features_extract_time)"
   ]
  },
  {
   "cell_type": "code",
   "execution_count": 157,
   "metadata": {},
   "outputs": [
    {
     "name": "stderr",
     "output_type": "stream",
     "text": [
      "100%|██████████| 10/10 [00:01<00:00,  5.32it/s]"
     ]
    },
    {
     "name": "stdout",
     "output_type": "stream",
     "text": [
      "Train size :  56000  / Test size :  14000\n",
      "----------------------------------------\n",
      "Test set score: 0.741807\n",
      "KNN fitting Time: 0.0639 ± 0.00360 sec\n",
      "All Test dataset Prediction Time at once : 0.1164 ± 0.00290 sec\n",
      "Divide the Prediction Time by Test size : 8.31263143 ± 0.20704721 microsec\n"
     ]
    },
    {
     "name": "stderr",
     "output_type": "stream",
     "text": [
      "\n"
     ]
    }
   ],
   "source": [
    "avg_test_acc = []\n",
    "avg_knn_fit_time = []\n",
    "avg_pred_time = []\n",
    "\n",
    "max_seed = 10\n",
    "\n",
    "for seed in tqdm(range(max_seed)):\n",
    "    x_train, x_test, y_train, y_test = train_test_split(features, y, test_size=0.2, random_state=seed, shuffle=True)\n",
    "\n",
    "    k = 5\n",
    "\n",
    "    knn = KNeighborsClassifier(k, weights='distance', n_jobs=-1)\n",
    "    start_time = time.perf_counter()\n",
    "    knn.fit(x_train, y_train)\n",
    "    knn_fit_time = time.perf_counter() - start_time\n",
    "    avg_knn_fit_time.append(knn_fit_time)\n",
    "\n",
    "    start_time = time.perf_counter()\n",
    "    pred = knn.predict(x_test)\n",
    "    pred_time = time.perf_counter() - start_time\n",
    "\n",
    "    test_score = accuracy_score(pred, y_test)\n",
    "    avg_test_acc.append(test_score)\n",
    "    avg_pred_time.append(pred_time)\n",
    "\n",
    "print(\"Train size : \", len(x_train), \" / Test size : \", len(x_test))\n",
    "print(\"-----\" * 8)\n",
    "print(\"Test set score: %f\" % np.array(avg_test_acc).mean())\n",
    "print(\"KNN fitting Time: %.4f ± %.5f\" % (np.array(avg_knn_fit_time).mean(), np.array(avg_knn_fit_time).std()), \"sec\")\n",
    "print(\"All Test dataset Prediction Time at once : %.4f ± %.5f\" % (np.array(avg_pred_time).mean(), np.array(avg_pred_time).std()), \"sec\")\n",
    "print(\"Divide the Prediction Time by Test size : %.8f ± %.8f\" % (np.array(avg_pred_time).mean()/len(x_test)*1e6, np.array(avg_pred_time).std()/len(x_test)*1e6), \"microsec\")"
   ]
  },
  {
   "cell_type": "code",
   "execution_count": 161,
   "metadata": {},
   "outputs": [
    {
     "data": {
      "image/png": "[encoded data removed]",
      "text/plain": [
       "<Figure size 432x288 with 1 Axes>"
      ]
     },
     "metadata": {
      "needs_background": "light"
     },
     "output_type": "display_data"
    }
   ],
   "source": [
    "plt.figure()\n",
    "plt.plot(pca_fit_time_list, \"b\", label=\"U*S*Vt Matrix Time\")\n",
    "plt.legend()\n",
    "plt.plot(features_extract_time_list, \"r\", label=\"new X = U*S Matrix Time\")\n",
    "plt.legend()\n",
    "plt.title(\"PCA Time Comparison\")\n",
    "plt.show()"
   ]
  },
  {
   "cell_type": "code",
   "execution_count": null,
   "metadata": {},
   "outputs": [],
   "source": []
  }
 ],
 "metadata": {
  "interpreter": {
   "hash": "b0c26a7210f9eeb7af94b2211f2c1134ba3dda07980383ea6b2b27a603c32e05"
  },
  "kernelspec": {
   "display_name": "Python 3.7.12 ('GBR')",
   "language": "python",
   "name": "python3"
  },
  "language_info": {
   "codemirror_mode": {
    "name": "ipython",
    "version": 3
   },
   "file_extension": ".py",
   "mimetype": "text/x-python",
   "name": "python",
   "nbconvert_exporter": "python",
   "pygments_lexer": "ipython3",
   "version": "3.7.12"
  },
  "orig_nbformat": 4
 },
 "nbformat": 4,
 "nbformat_minor": 2
}
