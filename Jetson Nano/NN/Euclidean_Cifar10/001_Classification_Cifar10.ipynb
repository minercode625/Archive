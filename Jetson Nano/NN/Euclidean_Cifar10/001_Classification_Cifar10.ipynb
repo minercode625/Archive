{
 "cells": [
  {
   "cell_type": "markdown",
   "metadata": {},
   "source": [
    "## Mnist Dataset Classification using K-Nearest Neighbors (Euclidean)\n",
    "\n",
    "### Summary\n",
    "<img align=\"right\" src=\"../image/NearestNeighbor.png\" width=150 height=150>\n",
    "KNN은 새로운 데이터가 주어졌을 때 기존 데이터 가운데 가장 가까운 k개 이웃의 정보로 새로운 데이터를 예측하는 알고리즘\n",
    "\n",
    "새로운 데이터가 주어진 경우 기존 모든 데이터와의 거리를 계산한다. 계산된 거리 값이 작은 k개의 데이터를 선정한다. 새로운 데이터의 클래스는 선정된 데이터들의 클래스 중 가장 많이 선택된 클래스로 분류한다.\n",
    "\n",
    "거리 계산 방법에는 Euclidean, Mahalanobis 등 있다.\n",
    "\n",
    "CIFAR10 데이터셋을 이용하여 10가지 클래스를 구분한다. 거리 계산 방법은 Euclidean을 사용한다.\n",
    "\n",
    "Time 측정 방법은 Method 측면에서는 \n",
    "1. Model Fitting Time : KNN의 경우 데이터셋에 대한 Checking 및 데이터셋 메모리에 카피\n",
    "2. All Test Data Prediction Time\n",
    "3. One Instance Prediction Time 10번 평균\n",
    "\n",
    "PCA 측면에서는 \n",
    "1. Calculate Train Data SVD Matrix Time\n",
    "2. Transform Train X to N-PCA Time\n",
    "3. Transform Test X to N-PCA Time"
   ]
  },
  {
   "cell_type": "code",
   "execution_count": 1,
   "metadata": {},
   "outputs": [],
   "source": [
    "import time\n",
    "from tqdm import tqdm\n",
    "import numpy as np\n",
    "import pandas as pd\n",
    "\n",
    "import seaborn as sns\n",
    "import matplotlib.pyplot as plt\n",
    "from PIL import Image\n",
    "\n",
    "from sklearn.datasets import fetch_openml\n",
    "from sklearn.model_selection import train_test_split\n",
    "from sklearn.metrics import accuracy_score\n",
    "from sklearn.neighbors import KNeighborsClassifier\n",
    "from sklearn.decomposition import PCA\n",
    "from torchvision.datasets import CIFAR10"
   ]
  },
  {
   "cell_type": "code",
   "execution_count": 2,
   "metadata": {},
   "outputs": [],
   "source": [
    "class BaseConfig:\n",
    "    def __init__(self):\n",
    "        pass\n",
    "\n",
    "    def info(self):\n",
    "        config_list = {\n",
    "            0 : ['Dataset', self.dataset, \n",
    "                 \"Train size: \" + str(int((1-self.test_size)*100))+\"%\",\n",
    "                 'Feature size: ' + str(self.feature_size), 1],\n",
    "            1 : ['Method', self.method, \n",
    "                 \"k = \" + str(self.k), self.distance, 2],\n",
    "            2 : ['Dimension reduction', \n",
    "                 'Method: ' + str(self.reduction_method[0]),\n",
    "                 'Component size: ' + str(self.reduction_method[1]),\n",
    "                 'Feature Reduction Ratio: ' + \\\n",
    "                    str(round(self.reduction_method[1]/self.feature_size, 3)*100 if self.reduction_method[1] is not None else None)+\"%\", 3],\n",
    "            3 : ['Iteration', str(self.iter), -1]\n",
    "        }\n",
    "\n",
    "        print(\"Device \" + \"─\" * 2 + \" \" + self.device)\n",
    "        print(\"│\")\n",
    "\n",
    "        parent = 1\n",
    "        for child in range(len(config_list)):\n",
    "            for idx, contents in enumerate(config_list[child][:-1]):\n",
    "                if idx == 0 and child == len(config_list)-1:\n",
    "                    print(\"└\" + \"─\" * 2 + contents)\n",
    "                elif idx == 0:\n",
    "                    print(\"├\" + \"─\" * 2 + contents)\n",
    "                elif child == len(config_list)-1:\n",
    "                    print(\" \" * 4 + \"└\" + \"─\" * 4 + contents)\n",
    "                else:\n",
    "                    print(\"│\" + \" \" * 4 + \"└\" + \"─\" * 4 + contents)\n",
    "            parent = config_list[child][-1]\n",
    "            if parent == -1: break\n",
    "            print(\"│\")\n",
    "\n",
    "    def print_rutin(self):\n",
    "        if self.reduction_method[0] is None:\n",
    "            rutin = str(self.device) + \" - \" + str(self.dataset) + \"(\" + str(int((1-self.test_size)*100)) + \"%) - \" + str(self.method) + \" - \" + str(self.iter) + \" iteration\"\n",
    "            print(rutin)\n",
    "        else:\n",
    "            rutin = str(self.device) + \" - \" + str(self.dataset) + \"(\" + str(int((1-self.test_size)*100)) + \"%) - \" + str(self.method) + \" - \" + str(self.iter) + \" iteration - \" + str(self.reduction_method[0]) + \"(feature \" + str(self.reduction_method[1]) + \")\"\n",
    "            print(rutin)\n",
    "\n",
    "class Config(BaseConfig):\n",
    "    def __init__(self):\n",
    "        super(BaseConfig, self).__init__()\n",
    "        self.device = 'Jetson'\n",
    "        self.dataset = 'CIFAR10'\n",
    "        self.test_size = 0.2\n",
    "        self.feature_size = 32*32*3\n",
    "        self.method = 'kNN'\n",
    "        self.k = 1\n",
    "        self.distance = 'Euclidean'\n",
    "        self.reduction_method = [None, None] # method, n_components\n",
    "        self.iter = 10\n"
   ]
  },
  {
   "cell_type": "markdown",
   "metadata": {},
   "source": [
    "# Load Mnist Dataset"
   ]
  },
  {
   "cell_type": "markdown",
   "metadata": {},
   "source": [
    "<a title=\"cifar10 image\" href=\"https://tutorials.pytorch.kr/_images/cifar10.png\"><img width=\"512\" alt=\"Cifar10Examples\" src=\"https://tutorials.pytorch.kr/_images/cifar10.png\"/></a>"
   ]
  },
  {
   "cell_type": "code",
   "execution_count": 3,
   "metadata": {},
   "outputs": [],
   "source": [
    "download_root = '../../datasets/CIFAR10'\n",
    "\n",
    "train_dataset = CIFAR10(download_root, train=True, download=False)\n",
    "test_dataset = CIFAR10(download_root, train=False, download=False)"
   ]
  },
  {
   "cell_type": "code",
   "execution_count": 6,
   "metadata": {},
   "outputs": [
    {
     "name": "stdout",
     "output_type": "stream",
     "text": [
      "Train data X shape : (50000, 32, 32, 3), y shape : (50000,)\n",
      "Test data X shape : (10000, 32, 32, 3), y shape : (10000,)\n"
     ]
    }
   ],
   "source": [
    "train_cifar10_X, train_cifar10_y = train_dataset.data, np.array(train_dataset.targets)\n",
    "test_cifar10_X, test_cifar10_y = test_dataset.data, np.array(test_dataset.targets)\n",
    "\n",
    "print(f'Train data X shape : {train_cifar10_X.shape}, y shape : {train_cifar10_y.shape}')\n",
    "print(f'Test data X shape : {test_cifar10_X.shape}, y shape : {test_cifar10_y.shape}')"
   ]
  },
  {
   "cell_type": "code",
   "execution_count": 7,
   "metadata": {},
   "outputs": [
    {
     "name": "stdout",
     "output_type": "stream",
     "text": [
      "Mnist Data range [0, 255] \n",
      "--> Mnist Data Normalized range [0.0, 1.0] \n"
     ]
    }
   ],
   "source": [
    "print(f'Mnist Data range [{train_cifar10_X.min()}, {train_cifar10_X.max()}] ')\n",
    "\n",
    "train_cifar10_X, test_cifar10_X = train_cifar10_X / 255., test_cifar10_X / 255.\n",
    "\n",
    "print(f'--> Mnist Data Normalized range [{train_cifar10_X.min()}, {train_cifar10_X.max()}] ')"
   ]
  },
  {
   "cell_type": "markdown",
   "metadata": {},
   "source": [
    "## Sample Images"
   ]
  },
  {
   "cell_type": "code",
   "execution_count": 8,
   "metadata": {},
   "outputs": [
    {
     "data": {
      "image/png": "[encoded data removed]",
      "text/plain": [
       "<Figure size 1080x360 with 10 Axes>"
      ]
     },
     "metadata": {
      "needs_background": "light"
     },
     "output_type": "display_data"
    }
   ],
   "source": [
    "plt.figure(figsize=(15, 5))\n",
    "\n",
    "for i in range(10):\n",
    "    sample_idx = np.where(train_cifar10_y == i)[0][0]\n",
    "\n",
    "    sample_image = train_cifar10_X[sample_idx]\n",
    "    sample_label = train_cifar10_y[sample_idx]\n",
    "\n",
    "    plt.subplot(2, 5, i+1) # nrows, ncolumns, index\n",
    "    plt.title(sample_label)\n",
    "    plt.imshow(sample_image,'gray')\n",
    "plt.show()"
   ]
  },
  {
   "cell_type": "markdown",
   "metadata": {},
   "source": [
    "## Train & Test Data Label Distribution"
   ]
  },
  {
   "cell_type": "code",
   "execution_count": 9,
   "metadata": {},
   "outputs": [
    {
     "data": {
      "image/png": "[encoded data removed]",
      "text/plain": [
       "<Figure size 1080x360 with 2 Axes>"
      ]
     },
     "metadata": {
      "needs_background": "light"
     },
     "output_type": "display_data"
    }
   ],
   "source": [
    "plt.figure(figsize=(15, 5))\n",
    "\n",
    "plt.subplot(1, 2, 1)\n",
    "sns.histplot(train_cifar10_y, palette=\"tab10\")\n",
    "plt.title(\"Class Distribution of Mnist Train Dataset\")\n",
    "\n",
    "plt.subplot(1, 2, 2)\n",
    "sns.histplot(test_cifar10_y, palette=\"tab10\")\n",
    "plt.title(\"Class Distribution of Mnist Test Dataset\")\n",
    "plt.show()"
   ]
  },
  {
   "cell_type": "markdown",
   "metadata": {},
   "source": [
    "## Preprocessing\n",
    " * Flatten 32 x 32 x 3 images to 3072 vectors"
   ]
  },
  {
   "cell_type": "code",
   "execution_count": 8,
   "metadata": {},
   "outputs": [
    {
     "name": "stdout",
     "output_type": "stream",
     "text": [
      "Mnist Data shape train : (50000, 32, 32, 3), test : (10000, 32, 32, 3)\n",
      "--> Mnist Data shape train : (50000, 3072), test : (10000, 3072)\n"
     ]
    }
   ],
   "source": [
    "print(f'Mnist Data shape train : {train_cifar10_X.shape}, test : {test_cifar10_X.shape}')\n",
    "\n",
    "train_cifar10_X = train_cifar10_X.reshape(-1, 32*32*3)\n",
    "test_cifar10_X = test_cifar10_X.reshape(-1, 32*32*3)\n",
    "\n",
    "print(f'--> Mnist Data shape train : {train_cifar10_X.shape}, test : {test_cifar10_X.shape}')"
   ]
  },
  {
   "cell_type": "markdown",
   "metadata": {},
   "source": [
    "## K-Nearest Neighbor"
   ]
  },
  {
   "cell_type": "code",
   "execution_count": 11,
   "metadata": {},
   "outputs": [
    {
     "name": "stdout",
     "output_type": "stream",
     "text": [
      "Device ── Jetson\n",
      "│\n",
      "├──Dataset\n",
      "│    └────CIFAR10\n",
      "│    └────Train size: 80%\n",
      "│    └────Feature size: 3072\n",
      "│\n",
      "├──Method\n",
      "│    └────kNN\n",
      "│    └────k = 1\n",
      "│    └────Euclidean\n",
      "│\n",
      "├──Dimension reduction\n",
      "│    └────Method: None\n",
      "│    └────Component size: None\n",
      "│    └────Feature Reduction Ratio: None%\n",
      "│\n",
      "└──Iteration\n",
      "    └────10\n"
     ]
    }
   ],
   "source": [
    "config = Config()\n",
    "config.info()"
   ]
  },
  {
   "cell_type": "code",
   "execution_count": 12,
   "metadata": {},
   "outputs": [],
   "source": [
    "def knn_run(train_data_X = train_cifar10_X,\n",
    "            train_data_y = train_cifar10_y,\n",
    "            test_data_X = test_cifar10_X,\n",
    "            test_data_y = test_cifar10_y,\n",
    "            config = None,\n",
    "            weights = 'distance'):\n",
    "\n",
    "    assert config is not None\n",
    "    # config.info()\n",
    "    config.print_rutin()\n",
    "    k = config.k\n",
    "    max_seed = config.iter\n",
    "\n",
    "    avg_test_acc = []\n",
    "    avg_knn_fit_time = []\n",
    "    avg_pred_time = []\n",
    "    preds = []\n",
    "\n",
    "    for seed in tqdm(range(max_seed)):\n",
    "        x_train, x_test, y_train, y_test = train_data_X, test_data_X, train_data_y, test_data_y\n",
    "\n",
    "        knn = KNeighborsClassifier(n_neighbors=k, weights=weights, n_jobs=-1)\n",
    "\n",
    "        start_time = time.perf_counter()\n",
    "        knn.fit(x_train, y_train)\n",
    "        knn_fit_time = time.perf_counter() - start_time\n",
    "        avg_knn_fit_time.append(knn_fit_time)\n",
    "\n",
    "        start_time = time.perf_counter()\n",
    "        pred = knn.predict(x_test)\n",
    "        pred_time = time.perf_counter() - start_time\n",
    "        preds.append(pred)\n",
    "\n",
    "        test_score = accuracy_score(pred, y_test)\n",
    "        avg_test_acc.append(test_score)\n",
    "        avg_pred_time.append(pred_time)\n",
    "\n",
    "    print(\"Train size : \", len(x_train), \" / Test size : \", len(x_test))\n",
    "    print(\"-----\" * 8)\n",
    "    print(\"Test set score: %f\" % np.array(avg_test_acc).mean())\n",
    "    print(\"KNN fitting Time: %.4f ± %.5f\" % (np.array(avg_knn_fit_time).mean(), np.array(avg_knn_fit_time).std()), \"sec\")\n",
    "    print(\"All Test dataset Prediction Time at once : %.4f ± %.5f\" % (np.array(avg_pred_time).mean(), np.array(avg_pred_time).std()), \"sec\")\n",
    "    print(\"Divide the Prediction Time by Test size : %.8f ± %.8f\" % (np.array(avg_pred_time).mean()/len(x_test)*1e6, np.array(avg_pred_time).std()/len(x_test)*1e6), \"microsec\")\n",
    "\n",
    "    return avg_test_acc, avg_knn_fit_time, avg_pred_time"
   ]
  },
  {
   "cell_type": "code",
   "execution_count": 15,
   "metadata": {},
   "outputs": [],
   "source": [
    "config.k = 1\n",
    "\n",
    "# avg_test_acc, avg_knn_fit_time, avg_pred_time = knn_run(train_data_X = train_cifar10_X,\n",
    "#                                                         train_data_y = train_cifar10_y,\n",
    "#                                                         test_data_X = test_cifar10_X,\n",
    "#                                                         test_data_y = test_cifar10_y,\n",
    "#                                                         config = config,\n",
    "#                                                         weights = 'distance')"
   ]
  },
  {
   "cell_type": "code",
   "execution_count": 16,
   "metadata": {},
   "outputs": [],
   "source": [
    "config.k = 2\n",
    "\n",
    "# avg_test_acc, avg_knn_fit_time, avg_pred_time = knn_run(train_data_X = train_cifar10_X,\n",
    "#                                                         train_data_y = train_cifar10_y,\n",
    "#                                                         test_data_X = test_cifar10_X,\n",
    "#                                                         test_data_y = test_cifar10_y,\n",
    "#                                                         config = config,\n",
    "#                                                         weights = 'distance')"
   ]
  },
  {
   "cell_type": "code",
   "execution_count": 17,
   "metadata": {},
   "outputs": [],
   "source": [
    "config.k = 3\n",
    "\n",
    "# avg_test_acc, avg_knn_fit_time, avg_pred_time = knn_run(train_data_X = train_cifar10_X,\n",
    "#                                                         train_data_y = train_cifar10_y,\n",
    "#                                                         test_data_X = test_cifar10_X,\n",
    "#                                                         test_data_y = test_cifar10_y,\n",
    "#                                                         config = config,\n",
    "#                                                         weights = 'distance')"
   ]
  },
  {
   "cell_type": "markdown",
   "metadata": {},
   "source": [
    "### 1개의 Instance를 예측하는데 걸리는 시간 측정 - 10번 반복"
   ]
  },
  {
   "cell_type": "code",
   "execution_count": 19,
   "metadata": {},
   "outputs": [],
   "source": [
    "def knn_run_one_instance(train_data_X = train_cifar10_X,\n",
    "            train_data_y = train_cifar10_y,\n",
    "            test_data_X = test_cifar10_X,\n",
    "            test_data_y = test_cifar10_y,\n",
    "            config = None,\n",
    "            weights = 'distance'):\n",
    "\n",
    "    assert config is not None\n",
    "    # config.info()\n",
    "    config.print_rutin()\n",
    "    k = config.k\n",
    "    max_seed = config.iter\n",
    "\n",
    "\n",
    "    x_train, x_test, y_train, y_test = train_data_X, test_data_X, train_data_y, test_data_y\n",
    "\n",
    "    knn = KNeighborsClassifier(n_neighbors=k, weights='distance', n_jobs=-1)\n",
    "\n",
    "    start_time = time.perf_counter()\n",
    "    knn.fit(x_train, y_train)\n",
    "    knn_fit_time = time.perf_counter() - start_time\n",
    "\n",
    "    avg_test_acc = []\n",
    "    avg_pred_time = []\n",
    "    preds = []\n",
    "    ys_test = []\n",
    "    count = 0\n",
    "\n",
    "    for x_one, y_one in tqdm(zip(x_test, y_test)):\n",
    "        x_one = x_one.reshape(1, -1)\n",
    "\n",
    "        start = time.perf_counter()\n",
    "        pred = knn.predict(x_one)\n",
    "        pred_time = time.perf_counter() - start\n",
    "        \n",
    "\n",
    "        avg_pred_time.append(pred_time)\n",
    "        preds.append(pred)\n",
    "        ys_test.append(y_one)\n",
    "\n",
    "        count += 1\n",
    "        if count == 10:\n",
    "            break\n",
    "\n",
    "    test_score = accuracy_score(preds, ys_test)\n",
    "    avg_test_acc.append(test_score)\n",
    "    avg_pred_time.append(pred_time)\n",
    "\n",
    "    print(\"Train size : \", len(x_train), \" / Test size : \", 10)\n",
    "    print(\"-----\" * 8)\n",
    "    print(\"Test set score: %f\" % np.array(avg_test_acc).mean())\n",
    "    print(\"KNN fitting Time: %.4f\" % (knn_fit_time), \"sec\")\n",
    "    print(\"One Instance Prediction Average Time : %.8f ± %.8f\" % (np.array(avg_pred_time).mean(), np.array(avg_pred_time).std()), \"sec\")\n",
    "\n",
    "    return avg_test_acc, knn_fit_time, avg_pred_time"
   ]
  },
  {
   "cell_type": "code",
   "execution_count": 20,
   "metadata": {},
   "outputs": [
    {
     "name": "stdout",
     "output_type": "stream",
     "text": [
      "Jetson - CIFAR10(80%) - kNN - 10 iteration\n"
     ]
    },
    {
     "name": "stderr",
     "output_type": "stream",
     "text": [
      "9it [05:58, 39.85s/it] \n"
     ]
    },
    {
     "name": "stdout",
     "output_type": "stream",
     "text": [
      "Train size :  50000  / Test size :  10\n",
      "----------------------------------------\n",
      "Test set score: 0.400000\n",
      "KNN fitting Time: 57.7746 sec\n",
      "One Instance Prediction Average Time : 32.60104625 ± 85.94254977 sec\n"
     ]
    }
   ],
   "source": [
    "config.k = 1\n",
    "\n",
    "avg_test_acc, knn_fit_time, avg_pred_time = knn_run_one_instance(train_data_X = train_cifar10_X,\n",
    "                                                        train_data_y = train_cifar10_y,\n",
    "                                                        test_data_X = test_cifar10_X,\n",
    "                                                        test_data_y = test_cifar10_y,\n",
    "                                                        config = config,\n",
    "                                                        weights = 'distance')"
   ]
  },
  {
   "cell_type": "code",
   "execution_count": 21,
   "metadata": {},
   "outputs": [],
   "source": [
    "config.k = 2\n",
    "\n",
    "# avg_test_acc, knn_fit_time, avg_pred_time = knn_run_one_instance(train_data_X = train_cifar10_X,\n",
    "#                                                         train_data_y = train_cifar10_y,\n",
    "#                                                         test_data_X = test_cifar10_X,\n",
    "#                                                         test_data_y = test_cifar10_y,\n",
    "#                                                         config = config,\n",
    "#                                                         weights = 'distance')"
   ]
  },
  {
   "cell_type": "code",
   "execution_count": 22,
   "metadata": {},
   "outputs": [],
   "source": [
    "config.k = 3\n",
    "\n",
    "# avg_test_acc, knn_fit_time, avg_pred_time = knn_run_one_instance(train_data_X = train_cifar10_X,\n",
    "#                                                         train_data_y = train_cifar10_y,\n",
    "#                                                         test_data_X = test_cifar10_X,\n",
    "#                                                         test_data_y = test_cifar10_y,\n",
    "#                                                         config = config,\n",
    "#                                                         weights = 'distance')"
   ]
  },
  {
   "cell_type": "code",
   "execution_count": 23,
   "metadata": {},
   "outputs": [],
   "source": [
    "n_components_list = []\n",
    "pca_fit_time_list = []\n",
    "train_features_extract_time_list = []\n",
    "test_features_extract_time_list = []"
   ]
  },
  {
   "cell_type": "markdown",
   "metadata": {},
   "source": [
    "### kNN with PCA feature 2"
   ]
  },
  {
   "cell_type": "markdown",
   "metadata": {},
   "source": [
    "### Time of calculating PCA"
   ]
  },
  {
   "cell_type": "code",
   "execution_count": 24,
   "metadata": {},
   "outputs": [],
   "source": [
    "def pca_run(train_data_X = train_cifar10_X,\n",
    "            test_data_X = test_cifar10_X,\n",
    "            config=None):\n",
    "\n",
    "    assert config is not None\n",
    "    config.info()\n",
    "\n",
    "    n_components = config.reduction_method[1]\n",
    "\n",
    "    pca_dims = PCA(n_components)\n",
    "    print(f\"The number of components : {n_components}\")\n",
    "\n",
    "    start_time = time.perf_counter()\n",
    "    pca_dims.fit(train_data_X)\n",
    "    pca_fit_time = time.perf_counter () - start_time\n",
    "    print()\n",
    "    print(f\"Calculating SVD Matrix Time on Train Data-{train_data_X.shape} : {pca_fit_time:4f} sec\")\n",
    "    \n",
    "    start_time = time.perf_counter()\n",
    "    train_features = pca_dims.transform(train_data_X)\n",
    "    train_features_extract_time = time.perf_counter () - start_time\n",
    "    print(f\"Transform train X-{train_data_X.shape} to {n_components}-PCA Time: {train_features_extract_time:4f} sec\")\n",
    "\n",
    "    start_time = time.perf_counter()\n",
    "    test_features = pca_dims.transform(test_data_X)\n",
    "    test_features_extract_time = time.perf_counter () - start_time\n",
    "    print(f\"Transform test X-{test_data_X.shape} to {n_components}-PCA Time: {test_features_extract_time:4f} sec\")\n",
    "\n",
    "    return pca_dims, train_features, test_features, pca_fit_time, train_features_extract_time, test_features_extract_time\n",
    "    "
   ]
  },
  {
   "cell_type": "code",
   "execution_count": 26,
   "metadata": {},
   "outputs": [
    {
     "name": "stdout",
     "output_type": "stream",
     "text": [
      "Device ── Jetson\n",
      "│\n",
      "├──Dataset\n",
      "│    └────CIFAR10\n",
      "│    └────Train size: 80%\n",
      "│    └────Feature size: 3072\n",
      "│\n",
      "├──Method\n",
      "│    └────kNN\n",
      "│    └────k = 1\n",
      "│    └────Euclidean\n",
      "│\n",
      "├──Dimension reduction\n",
      "│    └────Method: PCA\n",
      "│    └────Component size: 2\n",
      "│    └────Feature Reduction Ratio: 0.1%\n",
      "│\n",
      "└──Iteration\n",
      "    └────10\n",
      "The number of components : 2\n",
      "\n",
      "Calculating SVD Matrix Time on Train Data-(50000, 3072) : 318.064569 sec\n",
      "Transform train X-(50000, 3072) to 2-PCA Time: 113.084249 sec\n",
      "Transform test X-(10000, 3072) to 2-PCA Time: 11.668048 sec\n"
     ]
    }
   ],
   "source": [
    "config.reduction_method = ['PCA', 2]\n",
    "\n",
    "pca_dims, train_features, test_features, pca_fit_time, train_features_extract_time, test_features_extract_time = \\\n",
    "    pca_run(train_data_X = train_cifar10_X,\n",
    "            test_data_X = test_cifar10_X,\n",
    "            config=config)\n",
    "\n",
    "n_components_list.append(config.reduction_method[1])\n",
    "pca_fit_time_list.append(pca_fit_time)\n",
    "train_features_extract_time_list.append(train_features_extract_time)\n",
    "test_features_extract_time_list.append(test_features_extract_time)"
   ]
  },
  {
   "cell_type": "code",
   "execution_count": 27,
   "metadata": {},
   "outputs": [
    {
     "name": "stdout",
     "output_type": "stream",
     "text": [
      "Jetson - CIFAR10(80%) - kNN - 10 iteration - PCA(feature 2)\n"
     ]
    },
    {
     "name": "stderr",
     "output_type": "stream",
     "text": [
      "100%|██████████| 10/10 [00:03<00:00,  3.08it/s]"
     ]
    },
    {
     "name": "stdout",
     "output_type": "stream",
     "text": [
      "Train size :  50000  / Test size :  10000\n",
      "----------------------------------------\n",
      "Test set score: 0.146600\n",
      "KNN fitting Time: 0.1585 ± 0.19005 sec\n",
      "All Test dataset Prediction Time at once : 0.1530 ± 0.05373 sec\n",
      "Divide the Prediction Time by Test size : 15.29732147 ± 5.37261810 microsec\n"
     ]
    },
    {
     "name": "stderr",
     "output_type": "stream",
     "text": [
      "\n"
     ]
    }
   ],
   "source": [
    "config.k = 2\n",
    "\n",
    "avg_test_acc, avg_knn_fit_time, avg_pred_time = knn_run(train_data_X = train_features,\n",
    "                                                        train_data_y = train_cifar10_y,\n",
    "                                                        test_data_X = test_features,\n",
    "                                                        test_data_y = test_cifar10_y,\n",
    "                                                        config = config,\n",
    "                                                        weights = 'distance')"
   ]
  },
  {
   "cell_type": "markdown",
   "metadata": {},
   "source": [
    "### kNN with PCA feature 3"
   ]
  },
  {
   "cell_type": "code",
   "execution_count": 28,
   "metadata": {},
   "outputs": [
    {
     "name": "stdout",
     "output_type": "stream",
     "text": [
      "Device ── Jetson\n",
      "│\n",
      "├──Dataset\n",
      "│    └────CIFAR10\n",
      "│    └────Train size: 80%\n",
      "│    └────Feature size: 3072\n",
      "│\n",
      "├──Method\n",
      "│    └────kNN\n",
      "│    └────k = 2\n",
      "│    └────Euclidean\n",
      "│\n",
      "├──Dimension reduction\n",
      "│    └────Method: PCA\n",
      "│    └────Component size: 3\n",
      "│    └────Feature Reduction Ratio: 0.1%\n",
      "│\n",
      "└──Iteration\n",
      "    └────10\n",
      "The number of components : 3\n",
      "\n",
      "Calculating SVD Matrix Time on Train Data-(50000, 3072) : 375.775921 sec\n",
      "Transform train X-(50000, 3072) to 3-PCA Time: 100.215960 sec\n",
      "Transform test X-(10000, 3072) to 3-PCA Time: 13.775327 sec\n"
     ]
    }
   ],
   "source": [
    "config.reduction_method = ['PCA', 3]\n",
    "\n",
    "pca_dims, train_features, test_features, pca_fit_time, train_features_extract_time, test_features_extract_time = \\\n",
    "    pca_run(train_data_X = train_cifar10_X,\n",
    "            test_data_X = test_cifar10_X,\n",
    "            config=config)\n",
    "\n",
    "n_components_list.append(config.reduction_method[1])\n",
    "pca_fit_time_list.append(pca_fit_time)\n",
    "train_features_extract_time_list.append(train_features_extract_time)\n",
    "test_features_extract_time_list.append(test_features_extract_time)"
   ]
  },
  {
   "cell_type": "code",
   "execution_count": 29,
   "metadata": {},
   "outputs": [
    {
     "name": "stdout",
     "output_type": "stream",
     "text": [
      "Jetson - CIFAR10(80%) - kNN - 10 iteration - PCA(feature 3)\n"
     ]
    },
    {
     "name": "stderr",
     "output_type": "stream",
     "text": [
      "100%|██████████| 10/10 [00:03<00:00,  2.85it/s]"
     ]
    },
    {
     "name": "stdout",
     "output_type": "stream",
     "text": [
      "Train size :  50000  / Test size :  10000\n",
      "----------------------------------------\n",
      "Test set score: 0.174700\n",
      "KNN fitting Time: 0.1273 ± 0.08178 sec\n",
      "All Test dataset Prediction Time at once : 0.2105 ± 0.10031 sec\n",
      "Divide the Prediction Time by Test size : 21.04905422 ± 10.03091942 microsec\n"
     ]
    },
    {
     "name": "stderr",
     "output_type": "stream",
     "text": [
      "\n"
     ]
    }
   ],
   "source": [
    "config.k = 3\n",
    "\n",
    "avg_test_acc, avg_knn_fit_time, avg_pred_time = knn_run(train_data_X = train_features,\n",
    "                                                        train_data_y = train_cifar10_y,\n",
    "                                                        test_data_X = test_features,\n",
    "                                                        test_data_y = test_cifar10_y,\n",
    "                                                        config = config,\n",
    "                                                        weights = 'distance')"
   ]
  },
  {
   "cell_type": "markdown",
   "metadata": {},
   "source": [
    "### kNN with PCA feature 4"
   ]
  },
  {
   "cell_type": "code",
   "execution_count": 30,
   "metadata": {},
   "outputs": [
    {
     "name": "stdout",
     "output_type": "stream",
     "text": [
      "Device ── Jetson\n",
      "│\n",
      "├──Dataset\n",
      "│    └────CIFAR10\n",
      "│    └────Train size: 80%\n",
      "│    └────Feature size: 3072\n",
      "│\n",
      "├──Method\n",
      "│    └────kNN\n",
      "│    └────k = 3\n",
      "│    └────Euclidean\n",
      "│\n",
      "├──Dimension reduction\n",
      "│    └────Method: PCA\n",
      "│    └────Component size: 4\n",
      "│    └────Feature Reduction Ratio: 0.1%\n",
      "│\n",
      "└──Iteration\n",
      "    └────10\n",
      "The number of components : 4\n",
      "\n",
      "Calculating SVD Matrix Time on Train Data-(50000, 3072) : 472.995437 sec\n",
      "Transform train X-(50000, 3072) to 4-PCA Time: 107.460708 sec\n",
      "Transform test X-(10000, 3072) to 4-PCA Time: 12.052159 sec\n"
     ]
    }
   ],
   "source": [
    "config.reduction_method = ['PCA', 4]\n",
    "\n",
    "pca_dims, train_features, test_features, pca_fit_time, train_features_extract_time, test_features_extract_time = \\\n",
    "    pca_run(train_data_X = train_cifar10_X,\n",
    "            test_data_X = test_cifar10_X,\n",
    "            config=config)\n",
    "\n",
    "n_components_list.append(config.reduction_method[1])\n",
    "pca_fit_time_list.append(pca_fit_time)\n",
    "train_features_extract_time_list.append(train_features_extract_time)\n",
    "test_features_extract_time_list.append(test_features_extract_time)"
   ]
  },
  {
   "cell_type": "code",
   "execution_count": 31,
   "metadata": {},
   "outputs": [
    {
     "name": "stdout",
     "output_type": "stream",
     "text": [
      "Jetson - CIFAR10(80%) - kNN - 10 iteration - PCA(feature 4)\n"
     ]
    },
    {
     "name": "stderr",
     "output_type": "stream",
     "text": [
      "100%|██████████| 10/10 [00:05<00:00,  1.88it/s]"
     ]
    },
    {
     "name": "stdout",
     "output_type": "stream",
     "text": [
      "Train size :  50000  / Test size :  10000\n",
      "----------------------------------------\n",
      "Test set score: 0.197700\n",
      "KNN fitting Time: 0.1447 ± 0.11482 sec\n",
      "All Test dataset Prediction Time at once : 0.3785 ± 0.09600 sec\n",
      "Divide the Prediction Time by Test size : 37.85086176 ± 9.59952377 microsec\n"
     ]
    },
    {
     "name": "stderr",
     "output_type": "stream",
     "text": [
      "\n"
     ]
    }
   ],
   "source": [
    "config.k = 4\n",
    "\n",
    "avg_test_acc, avg_knn_fit_time, avg_pred_time = knn_run(train_data_X = train_features,\n",
    "                                                        train_data_y = train_cifar10_y,\n",
    "                                                        test_data_X = test_features,\n",
    "                                                        test_data_y = test_cifar10_y,\n",
    "                                                        config = config,\n",
    "                                                        weights = 'distance')"
   ]
  },
  {
   "cell_type": "markdown",
   "metadata": {},
   "source": [
    "### kNN with PCA feature 5"
   ]
  },
  {
   "cell_type": "code",
   "execution_count": 25,
   "metadata": {},
   "outputs": [
    {
     "name": "stdout",
     "output_type": "stream",
     "text": [
      "Device ── Jetson\n",
      "│\n",
      "├──Dataset\n",
      "│    └────CIFAR10\n",
      "│    └────Train size: 80%\n",
      "│    └────Feature size: 3072\n",
      "│\n",
      "├──Method\n",
      "│    └────kNN\n",
      "│    └────k = 3\n",
      "│    └────Euclidean\n",
      "│\n",
      "├──Dimension reduction\n",
      "│    └────Method: PCA\n",
      "│    └────Component size: 5\n",
      "│    └────Feature Reduction Ratio: 0.2%\n",
      "│\n",
      "└──Iteration\n",
      "    └────10\n",
      "The number of components : 5\n",
      "\n",
      "Calculating SVD Matrix Time on Train Data-(50000, 3072) : 357.472431 sec\n",
      "Transform train X-(50000, 3072) to 5-PCA Time: 115.823265 sec\n",
      "Transform test X-(10000, 3072) to 5-PCA Time: 5.807293 sec\n"
     ]
    }
   ],
   "source": [
    "config.reduction_method = ['PCA', 5]\n",
    "\n",
    "pca_dims, train_features, test_features, pca_fit_time, train_features_extract_time, test_features_extract_time = \\\n",
    "    pca_run(train_data_X = train_cifar10_X,\n",
    "            test_data_X = test_cifar10_X,\n",
    "            config=config)\n",
    "\n",
    "n_components_list.append(config.reduction_method[1])\n",
    "pca_fit_time_list.append(pca_fit_time)\n",
    "train_features_extract_time_list.append(train_features_extract_time)\n",
    "test_features_extract_time_list.append(test_features_extract_time)"
   ]
  },
  {
   "cell_type": "code",
   "execution_count": 26,
   "metadata": {},
   "outputs": [
    {
     "name": "stdout",
     "output_type": "stream",
     "text": [
      "Jetson - CIFAR10(80%) - kNN - 10 iteration - PCA(feature 5)\n"
     ]
    },
    {
     "name": "stderr",
     "output_type": "stream",
     "text": [
      "100%|██████████| 10/10 [00:05<00:00,  1.95it/s]"
     ]
    },
    {
     "name": "stdout",
     "output_type": "stream",
     "text": [
      "Train size :  50000  / Test size :  10000\n",
      "----------------------------------------\n",
      "Test set score: 0.243800\n",
      "KNN fitting Time: 0.1074 ± 0.06902 sec\n",
      "All Test dataset Prediction Time at once : 0.3982 ± 0.08629 sec\n",
      "Divide the Prediction Time by Test size : 39.82480969 ± 8.62854753 microsec\n"
     ]
    },
    {
     "name": "stderr",
     "output_type": "stream",
     "text": [
      "\n"
     ]
    }
   ],
   "source": [
    "config.k = 5\n",
    "\n",
    "avg_test_acc, avg_knn_fit_time, avg_pred_time = knn_run(train_data_X = train_features,\n",
    "                                                        train_data_y = train_cifar10_y,\n",
    "                                                        test_data_X = test_features,\n",
    "                                                        test_data_y = test_cifar10_y,\n",
    "                                                        config = config,\n",
    "                                                        weights = 'distance')"
   ]
  },
  {
   "cell_type": "markdown",
   "metadata": {},
   "source": [
    "### kNN with PCA feature that explain 70% original data"
   ]
  },
  {
   "cell_type": "code",
   "execution_count": 77,
   "metadata": {},
   "outputs": [
    {
     "name": "stdout",
     "output_type": "stream",
     "text": [
      "(50000, 15)\n"
     ]
    }
   ],
   "source": [
    "pca = PCA(n_components=0.7)\n",
    "pca_trans = pca.fit(train_cifar10_X).transform(train_cifar10_X)\n",
    "\n",
    "print(pca_trans.shape)"
   ]
  },
  {
   "cell_type": "code",
   "execution_count": 27,
   "metadata": {},
   "outputs": [
    {
     "name": "stdout",
     "output_type": "stream",
     "text": [
      "Device ── Jetson\n",
      "│\n",
      "├──Dataset\n",
      "│    └────CIFAR10\n",
      "│    └────Train size: 80%\n",
      "│    └────Feature size: 3072\n",
      "│\n",
      "├──Method\n",
      "│    └────kNN\n",
      "│    └────k = 5\n",
      "│    └────Euclidean\n",
      "│\n",
      "├──Dimension reduction\n",
      "│    └────Method: PCA\n",
      "│    └────Component size: 15\n",
      "│    └────Feature Reduction Ratio: 0.5%\n",
      "│\n",
      "└──Iteration\n",
      "    └────10\n",
      "The number of components : 15\n"
     ]
    }
   ],
   "source": [
    "config.reduction_method = ['PCA', 15]\n",
    "\n",
    "pca_dims, train_features, test_features, pca_fit_time, train_features_extract_time, test_features_extract_time = \\\n",
    "    pca_run(train_data_X = train_cifar10_X,\n",
    "            test_data_X = test_cifar10_X,\n",
    "            config=config)\n",
    "\n",
    "n_components_list.append(config.reduction_method[1])\n",
    "pca_fit_time_list.append(pca_fit_time)\n",
    "train_features_extract_time_list.append(train_features_extract_time)\n",
    "test_features_extract_time_list.append(test_features_extract_time)"
   ]
  },
  {
   "cell_type": "code",
   "execution_count": null,
   "metadata": {},
   "outputs": [],
   "source": [
    "config.k = 15\n",
    "\n",
    "avg_test_acc, avg_knn_fit_time, avg_pred_time = knn_run(train_data_X = train_features,\n",
    "                                                        train_data_y = train_cifar10_y,\n",
    "                                                        test_data_X = test_features,\n",
    "                                                        test_data_y = test_cifar10_y,\n",
    "                                                        config = config,\n",
    "                                                        weights = 'distance')"
   ]
  },
  {
   "cell_type": "markdown",
   "metadata": {},
   "source": [
    "### kNN with PCA feature that explain 80% original data"
   ]
  },
  {
   "cell_type": "code",
   "execution_count": 78,
   "metadata": {},
   "outputs": [
    {
     "name": "stdout",
     "output_type": "stream",
     "text": [
      "(50000, 33)\n"
     ]
    }
   ],
   "source": [
    "pca = PCA(n_components=0.8)\n",
    "pca_trans = pca.fit(train_cifar10_X).transform(train_cifar10_X)\n",
    "\n",
    "print(pca_trans.shape)"
   ]
  },
  {
   "cell_type": "code",
   "execution_count": null,
   "metadata": {},
   "outputs": [],
   "source": [
    "config.reduction_method = ['PCA', 33]\n",
    "\n",
    "pca_dims, train_features, test_features, pca_fit_time, train_features_extract_time, test_features_extract_time = \\\n",
    "    pca_run(train_data_X = train_cifar10_X,\n",
    "            test_data_X = test_cifar10_X,\n",
    "            config=config)\n",
    "\n",
    "n_components_list.append(config.reduction_method[1])\n",
    "pca_fit_time_list.append(pca_fit_time)\n",
    "train_features_extract_time_list.append(train_features_extract_time)\n",
    "test_features_extract_time_list.append(test_features_extract_time)"
   ]
  },
  {
   "cell_type": "code",
   "execution_count": null,
   "metadata": {},
   "outputs": [],
   "source": [
    "config.k = 33\n",
    "\n",
    "avg_test_acc, avg_knn_fit_time, avg_pred_time = knn_run(train_data_X = train_features,\n",
    "                                                        train_data_y = train_cifar10_y,\n",
    "                                                        test_data_X = test_features,\n",
    "                                                        test_data_y = test_cifar10_y,\n",
    "                                                        config = config,\n",
    "                                                        weights = 'distance')"
   ]
  },
  {
   "cell_type": "markdown",
   "metadata": {},
   "source": [
    "### kNN with PCA feature that explain 90% original data"
   ]
  },
  {
   "cell_type": "code",
   "execution_count": 90,
   "metadata": {},
   "outputs": [
    {
     "name": "stdout",
     "output_type": "stream",
     "text": [
      "(50000, 99)\n"
     ]
    }
   ],
   "source": [
    "pca = PCA(n_components=0.9)\n",
    "pca_trans = pca.fit(train_cifar10_X).transform(train_cifar10_X)\n",
    "\n",
    "print(pca_trans.shape)"
   ]
  },
  {
   "cell_type": "code",
   "execution_count": null,
   "metadata": {},
   "outputs": [],
   "source": [
    "config.reduction_method = ['PCA', 99]\n",
    "\n",
    "pca_dims, train_features, test_features, pca_fit_time, train_features_extract_time, test_features_extract_time = \\\n",
    "    pca_run(train_data_X = train_cifar10_X,\n",
    "            test_data_X = test_cifar10_X,\n",
    "            config=config)\n",
    "\n",
    "n_components_list.append(config.reduction_method[1])\n",
    "pca_fit_time_list.append(pca_fit_time)\n",
    "train_features_extract_time_list.append(train_features_extract_time)\n",
    "test_features_extract_time_list.append(test_features_extract_time)"
   ]
  },
  {
   "cell_type": "code",
   "execution_count": null,
   "metadata": {},
   "outputs": [],
   "source": [
    "config.k = 99\n",
    "\n",
    "avg_test_acc, avg_knn_fit_time, avg_pred_time = knn_run(train_data_X = train_features,\n",
    "                                                        train_data_y = train_cifar10_y,\n",
    "                                                        test_data_X = test_features,\n",
    "                                                        test_data_y = test_cifar10_y,\n",
    "                                                        config = config,\n",
    "                                                        weights = 'distance')"
   ]
  },
  {
   "cell_type": "code",
   "execution_count": null,
   "metadata": {},
   "outputs": [],
   "source": [
    "config.k = 3\n",
    "\n",
    "avg_test_acc, avg_knn_fit_time, avg_pred_time = knn_run(train_data_X = train_features,\n",
    "                                                        train_data_y = train_cifar10_y,\n",
    "                                                        test_data_X = test_features,\n",
    "                                                        test_data_y = test_cifar10_y,\n",
    "                                                        config = config,\n",
    "                                                        weights = 'distance')"
   ]
  },
  {
   "cell_type": "markdown",
   "metadata": {},
   "source": [
    "### Three part time of PCA"
   ]
  },
  {
   "cell_type": "code",
   "execution_count": null,
   "metadata": {},
   "outputs": [],
   "source": [
    "plt.figure()\n",
    "plt.plot(pca_fit_time_list, \"b\", label=\"Train SVD Matrix Time\")\n",
    "plt.legend()\n",
    "plt.plot(train_features_extract_time_list, \"r\", label=\"Train PCA Time\")\n",
    "plt.plot(test_features_extract_time_list, \"g\", label=\"Test PCA Time\")\n",
    "plt.legend()\n",
    "plt.title(\"PCA Time Comparison\")\n",
    "plt.show()"
   ]
  },
  {
   "cell_type": "code",
   "execution_count": null,
   "metadata": {},
   "outputs": [],
   "source": []
  }
 ],
 "metadata": {
  "interpreter": {
   "hash": "b0c26a7210f9eeb7af94b2211f2c1134ba3dda07980383ea6b2b27a603c32e05"
  },
  "kernelspec": {
   "display_name": "Python 3.7.12 ('GBR')",
   "language": "python",
   "name": "python3"
  },
  "language_info": {
   "codemirror_mode": {
    "name": "ipython",
    "version": 3
   },
   "file_extension": ".py",
   "mimetype": "text/x-python",
   "name": "python",
   "nbconvert_exporter": "python",
   "pygments_lexer": "ipython3",
   "version": "3.6.9"
  },
  "orig_nbformat": 4
 },
 "nbformat": 4,
 "nbformat_minor": 2
}
